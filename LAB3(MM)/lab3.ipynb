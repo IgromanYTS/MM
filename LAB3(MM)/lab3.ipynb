{
 "cells": [
  {
   "cell_type": "markdown",
   "metadata": {},
   "source": [
    "Імпортуємо модулі"
   ]
  },
  {
   "cell_type": "code",
   "execution_count": 34,
   "metadata": {},
   "outputs": [],
   "source": [
    "import random\n",
    "import matplotlib.pyplot as plt"
   ]
  },
  {
   "cell_type": "markdown",
   "metadata": {},
   "source": [
    "Створюємо фігуру з завдання"
   ]
  },
  {
   "cell_type": "code",
   "execution_count": 44,
   "metadata": {},
   "outputs": [
    {
     "data": {
      "image/png": "[encoded data removed]",
      "text/plain": [
       "<Figure size 640x480 with 1 Axes>"
      ]
     },
     "metadata": {},
     "output_type": "display_data"
    }
   ],
   "source": [
    "plt.figure()\n",
    "plt.plot([0, 1, 1, 4, 4], [1, 1, 3, 3, 0], color=\"blue\")\n",
    "plt.plot([1.5, 1.5, 2.5, 2.5], [0, 2, 2, 0], color=\"blue\")\n",
    "plt.show()"
   ]
  },
  {
   "cell_type": "markdown",
   "metadata": {},
   "source": [
    "Створюємо функцію для перевірки входження у фігуру"
   ]
  },
  {
   "cell_type": "code",
   "execution_count": 25,
   "metadata": {},
   "outputs": [],
   "source": [
    "def check(x,y):\n",
    "    if 0<=x<=1 and 0<=y<=1:\n",
    "        return True\n",
    "    elif 1<=x<=1.5 and 0<=y<=3:\n",
    "        return True\n",
    "    elif 1.5<=x<=2.5 and 2<=y<=3:\n",
    "        return True\n",
    "    elif 2.5<=x<=4 and 0<=y<=3:\n",
    "        return True\n",
    "    else: \n",
    "        return False"
   ]
  },
  {
   "cell_type": "markdown",
   "metadata": {},
   "source": [
    "Рахуємо загальну площу великого прямокутника "
   ]
  },
  {
   "cell_type": "code",
   "execution_count": 26,
   "metadata": {},
   "outputs": [],
   "source": [
    "plosha = 3*4"
   ]
  },
  {
   "cell_type": "markdown",
   "metadata": {},
   "source": [
    "Реалізуємо алгоритм Монте-Карло"
   ]
  },
  {
   "cell_type": "code",
   "execution_count": 27,
   "metadata": {},
   "outputs": [],
   "source": [
    "def monteKarlo(n , p):\n",
    "    count = 0\n",
    "    for _ in range(n):\n",
    "        x = random.uniform(0,4)\n",
    "        y = random.uniform(0,3)\n",
    "        if check(x,y):\n",
    "            count += 1\n",
    "    s = (count*p)/n\n",
    "    return s\n",
    "\n"
   ]
  },
  {
   "cell_type": "markdown",
   "metadata": {},
   "source": [
    "Запускаємо"
   ]
  },
  {
   "cell_type": "code",
   "execution_count": 28,
   "metadata": {},
   "outputs": [],
   "source": [
    "real_area = 12-3-3\n",
    "monte_area = monteKarlo(10000000, plosha)"
   ]
  },
  {
   "cell_type": "markdown",
   "metadata": {},
   "source": [
    "Отримуємо значення та рахуємо похибку"
   ]
  },
  {
   "cell_type": "code",
   "execution_count": 33,
   "metadata": {},
   "outputs": [
    {
     "name": "stdout",
     "output_type": "stream",
     "text": [
      "Площа, що підрахована власноруч:  6\n",
      "Площа за допомогою метода Монте-Карло:  8.0001288\n",
      "Аболютна похибка 2.0001288000000006\n",
      "Відносна похибка 33.33548000000001 %\n"
     ]
    }
   ],
   "source": [
    "print(\"Площа, що підрахована власноруч: \", real_area)\n",
    "print(\"Площа за допомогою метода Монте-Карло: \", monte_area)\n",
    "print(\"Аболютна похибка\", monte_area-real_area)\n",
    "print(\"Відносна похибка\", ((monte_area-real_area)/real_area)*100, \"%\")"
   ]
  }
 ],
 "metadata": {
  "kernelspec": {
   "display_name": "base",
   "language": "python",
   "name": "python3"
  },
  "language_info": {
   "codemirror_mode": {
    "name": "ipython",
    "version": 3
   },
   "file_extension": ".py",
   "mimetype": "text/x-python",
   "name": "python",
   "nbconvert_exporter": "python",
   "pygments_lexer": "ipython3",
   "version": "3.12.4"
  }
 },
 "nbformat": 4,
 "nbformat_minor": 2
}
