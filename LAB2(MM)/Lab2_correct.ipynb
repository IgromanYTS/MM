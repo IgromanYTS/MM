{
 "cells": [
  {
   "cell_type": "markdown",
   "metadata": {},
   "source": [
    "Імпортуємо модуль"
   ]
  },
  {
   "cell_type": "code",
   "execution_count": 15,
   "metadata": {},
   "outputs": [],
   "source": [
    "from scipy.optimize import linprog"
   ]
  },
  {
   "cell_type": "markdown",
   "metadata": {},
   "source": [
    "Створюємо змінні"
   ]
  },
  {
   "cell_type": "code",
   "execution_count": 16,
   "metadata": {},
   "outputs": [],
   "source": [
    "target = [3, -2] \n",
    "coefs_1 = [[2, 1],\n",
    "          [-3, 2],  \n",
    "          [3, 4]]\n",
    "\n",
    "coefs_2 = [14, 9, 27] "
   ]
  },
  {
   "cell_type": "markdown",
   "metadata": {},
   "source": [
    "Підраховуємо та виводимо отриманні значення"
   ]
  },
  {
   "cell_type": "code",
   "execution_count": 14,
   "metadata": {},
   "outputs": [
    {
     "name": "stdout",
     "output_type": "stream",
     "text": [
      "Running HiGHS 1.2.0 [date: 2021-07-09, git hash: n/a]\n",
      "Copyright (c) 2022 ERGO-Code under MIT licence terms\n",
      "Presolving model\n",
      "3 rows, 2 cols, 6 nonzeros\n",
      "3 rows, 2 cols, 6 nonzeros\n",
      "Presolve : Reductions: rows 3(-0); columns 2(-0); elements 6(-0) - Not reduced\n",
      "Problem not reduced by presolve: solving the LP\n",
      "Using EKK dual simplex solver - serial\n",
      "  Iteration        Objective     Infeasibilities num(sum)\n",
      "          0    -1.9999972616e+00 Ph1: 3(7); Du: 1(2) 0s\n",
      "          2    -9.0000000000e+00 Pr: 0(0) 0s\n",
      "Model   status      : Optimal\n",
      "Simplex   iterations: 2\n",
      "Objective value     : -9.0000000000e+00\n",
      "HiGHS run time      :          0.00\n",
      "Оптимальне значення функції: 9.0\n",
      "Оптимальне значення змінної х1: 0.0\n",
      "Оптимальне значення змінної х2: 4.5\n"
     ]
    }
   ],
   "source": [
    "x_bounds = (0, None)\n",
    "y_bounds = (0, None)\n",
    "res = linprog(target, A_ub=coefs_1, b_ub=coefs_2, bounds=[x_bounds, y_bounds], method='highs', options={\"disp\": True})\n",
    "if res.success:\n",
    "    print(\"Оптимальне значення функції:\", -res.fun)  \n",
    "    print(\"Оптимальне значення змінної х1:\", res.x[0])\n",
    "    print(\"Оптимальне значення змінної х2:\", res.x[1])\n",
    "else:\n",
    "    print(\"Оптимізація не відбулась:\", res.message)"
   ]
  }
 ],
 "metadata": {
  "kernelspec": {
   "display_name": "base",
   "language": "python",
   "name": "python3"
  },
  "language_info": {
   "codemirror_mode": {
    "name": "ipython",
    "version": 3
   },
   "file_extension": ".py",
   "mimetype": "text/x-python",
   "name": "python",
   "nbconvert_exporter": "python",
   "pygments_lexer": "ipython3",
   "version": "3.12.4"
  }
 },
 "nbformat": 4,
 "nbformat_minor": 2
}
