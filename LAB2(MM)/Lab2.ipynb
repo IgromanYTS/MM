{
 "cells": [
  {
   "cell_type": "markdown",
   "metadata": {},
   "source": [
    "Вводимо рівяння z:"
   ]
  },
  {
   "cell_type": "code",
   "execution_count": 50,
   "metadata": {},
   "outputs": [
    {
     "name": "stdout",
     "output_type": "stream",
     "text": [
      "Ваше рівняння z має наступний вигляд: z = 3X1 + -2X2\n"
     ]
    }
   ],
   "source": [
    "countZ = int(input(\"Введіть кількість змінних для ф-ії z(коректно працює лише для двох значень):\" ))\n",
    "arrayZ = []\n",
    "string = \"z = \"\n",
    "for i in range(0,countZ):\n",
    "    currentPosition = i + 1\n",
    "    inp = int(input(f\"Введіть коєфіцієнт для Х{currentPosition}: \" ))\n",
    "    if i < countZ - 1:\n",
    "        string += f\"{inp}X{currentPosition} + \"\n",
    "    else: \n",
    "        string += f\"{inp}X{currentPosition}\"\n",
    "    arrayZ.append(inp)\n",
    "#print(arrayZ)\n",
    "print(\"Ваше рівняння z має наступний вигляд:\", string)"
   ]
  },
  {
   "cell_type": "markdown",
   "metadata": {},
   "source": [
    "Створюємо масиви"
   ]
  },
  {
   "cell_type": "code",
   "execution_count": 51,
   "metadata": {},
   "outputs": [],
   "source": [
    "x1 = [\"x1\"]\n",
    "x2 = [\"x2\"]\n",
    "x3 = [\"x3\"]\n",
    "x4 = [\"x4\"]\n",
    "x5 = [\"x5\"]\n",
    "bi = []\n",
    "bi_res = []\n",
    "baz = [\"x3\" , \"x4\" , \"x5\"]"
   ]
  },
  {
   "cell_type": "markdown",
   "metadata": {},
   "source": [
    "Приймаємо вхідні значення"
   ]
  },
  {
   "cell_type": "code",
   "execution_count": 52,
   "metadata": {},
   "outputs": [],
   "source": [
    "inputBehaviourZ = str(input(\"Введіть поведінку z (min або max): \" ))\n",
    "if inputBehaviourZ == \"min\":\n",
    "    countEquations = int(input(\"Введіть кількість рівнянь (якщо <3, то останнє заповнити 0): \"))\n",
    "    countVariable = int(input(\"Введіть кількість змінних (якщо <5, то останні заповнити 0), останній після = : \"))\n",
    "    for i in range(0, countEquations):\n",
    "        inputArray = list(map(int, input().split()))\n",
    "        x1.append(inputArray[0])\n",
    "        x2.append(inputArray[1])\n",
    "        x3.append(inputArray[2])\n",
    "        x4.append(inputArray[3])\n",
    "        x5.append(inputArray[4])\n",
    "        bi.append(inputArray[5])\n",
    "    #print(x1, x2, x3, x4, x5, bi)\n"
   ]
  },
  {
   "cell_type": "code",
   "execution_count": 53,
   "metadata": {},
   "outputs": [],
   "source": [
    "x1.append(-arrayZ[0])\n",
    "x2.append(-arrayZ[1])\n",
    "x3.append(0)\n",
    "x4.append(0)\n",
    "x5.append(0)\n",
    "bi.append(0)\n",
    "\n",
    "#print(x1, x2, x3, x4, x5, bi)"
   ]
  },
  {
   "cell_type": "code",
   "execution_count": 58,
   "metadata": {},
   "outputs": [],
   "source": [
    "bi_res.append(\"bi_res\")\n",
    "#print(x1, x2, x3, x4, x5, bi, bi_res)"
   ]
  },
  {
   "cell_type": "markdown",
   "metadata": {},
   "source": [
    "Створюємо bi_last"
   ]
  },
  {
   "cell_type": "code",
   "execution_count": 59,
   "metadata": {},
   "outputs": [],
   "source": [
    "bi_last = [x1[-1], x2[-1], x3[-1], x4[-1], x5[-1]]\n",
    "#print(has_positive(bi_last))\n",
    "index = bi_last.index(max(bi_last))\n",
    "#print(max(bi_last))\n",
    "#print(bi_last)"
   ]
  },
  {
   "cell_type": "markdown",
   "metadata": {},
   "source": [
    "Позитивна функція"
   ]
  },
  {
   "cell_type": "code",
   "execution_count": 55,
   "metadata": {},
   "outputs": [],
   "source": [
    "def has_positive(arr):\n",
    "    for value in arr:\n",
    "        if value > 0:\n",
    "            return True  \n",
    "    return False  "
   ]
  },
  {
   "cell_type": "markdown",
   "metadata": {},
   "source": [
    "Мін значення та індекс"
   ]
  },
  {
   "cell_type": "code",
   "execution_count": 56,
   "metadata": {},
   "outputs": [],
   "source": [
    "def min_value_and_index(temp, bi):\n",
    "    values = [bi[i] / temp[i] for i in range(1, len(bi)-1)] \n",
    "    min_value = min(values)\n",
    "    min_index = values.index(min_value) + 2 \n",
    "    return min_value, min_index"
   ]
  },
  {
   "cell_type": "markdown",
   "metadata": {},
   "source": [
    "Чотири нулі, функція"
   ]
  },
  {
   "cell_type": "code",
   "execution_count": 57,
   "metadata": {},
   "outputs": [],
   "source": [
    "def has_four_zeros(array):\n",
    "    return array.count(0) == 4"
   ]
  },
  {
   "cell_type": "markdown",
   "metadata": {},
   "source": [
    "Замінюємо та шукаємо значення в таблиці"
   ]
  },
  {
   "cell_type": "code",
   "execution_count": 60,
   "metadata": {},
   "outputs": [],
   "source": [
    "temp = []\n",
    "#print(\"2 \", x2)\n",
    "while has_positive(bi_last) == True:\n",
    "    index = bi_last.index(max(bi_last))\n",
    "    #print(index)\n",
    "    if index == 0:\n",
    "        temp = x1\n",
    "        minimum_value, index = min_value_and_index(temp, bi) \n",
    "    elif index == 1:\n",
    "        #print(\"Yes\")\n",
    "        temp = x2\n",
    "        minimum_value, inde = min_value_and_index(temp, bi)\n",
    "        #print(inde)\n",
    "        #print(\"2 \", x2)\n",
    "        if inde == 1:\n",
    "            first = -x2[2]/x2[1]\n",
    "            second = -x2[3]/x2[1]\n",
    "            third = -x2[4]/x2[1]\n",
    "        if inde == 2:\n",
    "            #print(\"Yes\")\n",
    "            #print(\"2 \", x2)\n",
    "            #print(\"Yes\")\n",
    "            first = -x2[1]/x2[2]\n",
    "            #print(first)\n",
    "            second = -x2[3]/x2[2]\n",
    "            third = -x2[4]/x2[2]\n",
    "            #print(first, second, third)\n",
    "            #break\n",
    "            x1[1] = x1[2] * first + x1[1]\n",
    "            x2[1] = x2[2] * first + x2[1]\n",
    "            x3[1] = x3[2] * first + x3[1]\n",
    "            x4[1] = x4[2] * first + x4[1]\n",
    "            x5[1] = x5[2] * first + x5[1]\n",
    "            bi[1] = bi[2] * first + bi[1]\n",
    "\n",
    "            x1[3] = x1[2] * second + x1[3]\n",
    "            x2[3] = x2[2] * second + x2[3]\n",
    "            x3[3] = x3[2] * second + x3[3]\n",
    "            x4[3] = x4[2] * second + x4[3]\n",
    "            x5[3] = x5[2] * second + x5[3]\n",
    "            bi[3] = bi[2] * second + bi[3]\n",
    "\n",
    "            x1[4] = x1[2] * third + x1[4]\n",
    "            x2[4] = x2[2] * third + x2[4]\n",
    "            x3[4] = x3[2] * third + x3[4]\n",
    "            x4[4] = x4[2] * third + x4[4]\n",
    "            x5[4] = x5[2] * third + x5[4]\n",
    "            #bi[4] = bi[2] * third + bi[4]\n",
    "\n",
    "            #print(x1, x2, x3, x4, x5)\n",
    "\n",
    "            \n",
    "\n",
    "            l = 0\n",
    "            if has_four_zeros(x1):\n",
    "                baz[l] = \"x1\"\n",
    "                l += 1\n",
    "            if has_four_zeros(x2):\n",
    "                baz[l] = \"x2\"\n",
    "                l += 1\n",
    "            if has_four_zeros(x3):\n",
    "                baz[l] = \"x3\"\n",
    "                l += 1\n",
    "            if has_four_zeros(x4):\n",
    "                baz[l] = \"x4\"\n",
    "                l += 1\n",
    "            if has_four_zeros(x5):\n",
    "                baz[l] = \"x5\"\n",
    "                l += 1\n",
    "            #print(baz)\n",
    "            bi_last = [x1[-1], x2[-1], x3[-1], x4[-1], x5[-1]]\n",
    "            #print(x1, x2, x3, x4, x5)\n",
    "            #print(bi_last)\n",
    "        if inde == 3:\n",
    "            first = -x2[1]/x2[3]\n",
    "            second = -x2[2]/x2[3]\n",
    "            third = -x2[4]/x2[3]\n",
    "\n",
    "    elif index == 2:\n",
    "        temp = x3\n",
    "        minimum_value, index = min_value_and_index(temp, bi)\n",
    "    elif index == 3:\n",
    "        temp = x4\n",
    "        minimum_value, index = min_value_and_index(temp, bi)\n",
    "    elif index == 4:\n",
    "        temp = x5\n",
    "        minimum_value, index = min_value_and_index(temp, bi)\n",
    "        \n",
    "    \n",
    "\n",
    "#print(bi[-1])"
   ]
  },
  {
   "cell_type": "markdown",
   "metadata": {},
   "source": [
    "Функція, що насправді шукає три нулі)"
   ]
  },
  {
   "cell_type": "code",
   "execution_count": 61,
   "metadata": {},
   "outputs": [],
   "source": [
    "def has_four_zeros2(array):\n",
    "    return array.count(0.0) == 3"
   ]
  },
  {
   "cell_type": "code",
   "execution_count": 62,
   "metadata": {},
   "outputs": [],
   "source": [
    "l = 0\n",
    "#print(x1, x2, x3, x4, x5)\n",
    "if has_four_zeros2(x1):\n",
    "    baz[l] = \"x1\"\n",
    "    l += 1\n",
    "if has_four_zeros2(x2):\n",
    "    baz[l] = \"x2\"\n",
    "    l += 1\n",
    "if has_four_zeros2(x3):\n",
    "    baz[l] = \"x3\"\n",
    "    l += 1\n",
    "if has_four_zeros2(x4):\n",
    "    baz[l] = \"x4\"\n",
    "    l += 1\n",
    "if has_four_zeros2(x5):\n",
    "    baz[l] = \"x5\"\n",
    "    l += 1\n",
    "#print(baz)"
   ]
  },
  {
   "cell_type": "markdown",
   "metadata": {},
   "source": [
    "Прибираємо помилку створену на початку та знищуємо стрінгові значення"
   ]
  },
  {
   "cell_type": "code",
   "execution_count": 63,
   "metadata": {},
   "outputs": [],
   "source": [
    "def remove_strings(array):\n",
    "    return [element for element in array if not isinstance(element, str)]\n",
    "\n",
    "# Применяем функцию к каждому массиву\n",
    "x1 = remove_strings(x1)\n",
    "x2 = remove_strings(x2)\n",
    "x3 = remove_strings(x3)\n",
    "x4 = remove_strings(x4)\n",
    "x5 = remove_strings(x5)"
   ]
  },
  {
   "cell_type": "markdown",
   "metadata": {},
   "source": [
    "Витягуємо відповідь"
   ]
  },
  {
   "cell_type": "code",
   "execution_count": 65,
   "metadata": {},
   "outputs": [
    {
     "name": "stdout",
     "output_type": "stream",
     "text": [
      "Наш шуканий min: -4.5\n"
     ]
    }
   ],
   "source": [
    "bi_res = []\n",
    "if baz.count(\"x1\"):\n",
    "    bi_res.append(bi[0]/max(x1))\n",
    "if baz.count(\"x2\"):\n",
    "    bi_res.append(bi[1]/max(x2))\n",
    "print(\"Наш шуканий min:\", min(bi_res))"
   ]
  }
 ],
 "metadata": {
  "kernelspec": {
   "display_name": "base",
   "language": "python",
   "name": "python3"
  },
  "language_info": {
   "codemirror_mode": {
    "name": "ipython",
    "version": 3
   },
   "file_extension": ".py",
   "mimetype": "text/x-python",
   "name": "python",
   "nbconvert_exporter": "python",
   "pygments_lexer": "ipython3",
   "version": "3.12.4"
  }
 },
 "nbformat": 4,
 "nbformat_minor": 2
}
